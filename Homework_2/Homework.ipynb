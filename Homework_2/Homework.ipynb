{
 "cells": [
  {
   "cell_type": "markdown",
   "metadata": {},
   "source": [
    "# HOMEWORK 2\n",
    "For this homework you will have to complete and implement the colour balancing for:\n",
    "* Gray world algorithm\n",
    "* Scale-by-max algorithm\n",
    "\n",
    "You are free to use your own images. Experiment with more images and think about the effect each of the algorithms has on the resulting (balanced) image.\n",
    "\n",
    "### Colour Balancing\n",
    "In this notebook we will show different type of colour balancing making use of von Kries' hypothesis."
   ]
  },
  {
   "cell_type": "code",
   "execution_count": null,
   "metadata": {},
   "outputs": [],
   "source": [
    "import cv2\n",
    "import numpy as np\n",
    "from matplotlib import pyplot as plt\n",
    "plt.rcParams['figure.figsize'] = [15, 5]"
   ]
  },
  {
   "cell_type": "code",
   "execution_count": null,
   "metadata": {},
   "outputs": [],
   "source": [
    "img = cv2.imread('data/forest.jpeg')\n",
    "img = cv2.cvtColor(img, cv2.COLOR_BGR2RGB)\n",
    "plt.imshow(img)"
   ]
  },
  {
   "cell_type": "markdown",
   "metadata": {},
   "source": [
    "### White patch\n",
    "In white patch algorithm we choose a group of pixels we know they should be white. We then scale the resulting image colour channels by this white patch."
   ]
  },
  {
   "cell_type": "code",
   "execution_count": null,
   "metadata": {},
   "outputs": [],
   "source": [
    "# Define white patch and the coefficients\n",
    "row, col = 684, 561 \n",
    "white = img[row, col, :]\n",
    "coeffs = 255.0/white\n",
    "\n",
    "# Apply white balancing and generate balanced image\n",
    "balanced = np.zeros_like(img, dtype=np.float32)\n",
    "for channel in range(3):\n",
    "    balanced[..., channel] = img[..., channel] * coeffs[channel]\n",
    "\n",
    "# White patching does not guarantee that the dynamic range is preserved, images must be clipped.\n",
    "balanced = balanced/255\n",
    "balanced[balanced > 1] = 1\n",
    "\n",
    "plt.subplot(121), plt.imshow(img)\n",
    "plt.subplot(122), plt.imshow(balanced)"
   ]
  },
  {
   "cell_type": "markdown",
   "metadata": {},
   "source": [
    "### Gray world\n",
    "This algorithm assumes that a scene, on average, is gray."
   ]
  },
  {
   "cell_type": "code",
   "execution_count": null,
   "metadata": {},
   "outputs": [],
   "source": [
    "# Load your image\n",
    "from pickle import FALSE\n",
    "\n",
    "\n",
    "img = cv2.imread('data/forest.jpeg')\n",
    "img = cv2.cvtColor(img, cv2.COLOR_BGR2RGB)\n",
    "\n",
    "# Compute the mean values for all three colour channels (red, green, blue)\n",
    "mean_r, mean_g, mean_b = np.mean(img, axis=tuple(range(img.ndim-1)))\n",
    "# or\n",
    "# mean_r = np.average(img[:, :, 0])\n",
    "# mean_g = np.average(img[:, :, 1])\n",
    "# mean_b = np.average(img[:, :, 2])\n",
    "\n",
    "# Compute the coefficients kr, kg, kb\n",
    "# Note: there are 3 coefficients to compute but we only have 2 equations.\n",
    "# Therefore, you have to make an assumption, fix the value of one of the\n",
    "# coefficients and compute the remining two\n",
    "# Hint: You can fix the coefficient of the brightest colour channel to 1.\n",
    "mean_k = np.average([mean_r,mean_g,mean_b])\n",
    "\n",
    "arr_mean_coef = [mean_k/mean_r, mean_k/mean_g, mean_k/mean_b]\n",
    "# kr = mean_k/mean_r\n",
    "# kg = mean_k/mean_g\n",
    "# kb = mean_k/mean_b\n",
    "\n",
    "# Apply color balancing and generate the balanced image\n",
    "balanced = np.zeros_like(img, dtype=np.float32)\n",
    "for channel in range(3):\n",
    "    balanced[..., channel] = img[..., channel] * arr_mean_coef[channel]\n",
    "# balanced[..., 0] = img[..., 0]*kr\n",
    "# balanced[..., 1] = img[..., 1]*kg\n",
    "# balanced[..., 2] = img[..., 2]*kb\n",
    "\n",
    "balanced = balanced/255\n",
    "balanced[balanced > 1] = 1\n",
    "\n",
    "# Show the original and the balanced image side by side\n",
    "plt.subplot(121), plt.imshow(img)\n",
    "plt.subplot(122), plt.imshow(balanced)"
   ]
  },
  {
   "cell_type": "markdown",
   "metadata": {},
   "source": [
    "### Scale-by-max\n",
    "This is a straightforward algorithm that scales each colour channel by its maximum value. Note that it is sensitive to noise and saturations."
   ]
  },
  {
   "cell_type": "code",
   "execution_count": null,
   "metadata": {},
   "outputs": [],
   "source": [
    "# Load your image\n",
    "img = cv2.imread('data/dark.jpg')\n",
    "img = cv2.cvtColor(img, cv2.COLOR_BGR2RGB)\n",
    "\n",
    "# Compute the maximum values for all three colour channels (red, green, blue)\n",
    "arr_max_coef = img.max(axis=tuple(range(img.ndim-1)))\n",
    "\n",
    "# max_r = img[...,0].max()\n",
    "# max_g = img[...,1].max()\n",
    "# max_b = img[...,2].max()\n",
    "\n",
    "# Apply scale-by-max balancing and generate the balanced image\n",
    "balanced = np.zeros_like(img, dtype=np.float32)\n",
    "\n",
    "for channel in range(3):\n",
    "    balanced[..., channel] = (img[..., channel] / arr_max_coef[channel]) * 255\n",
    "\n",
    "plt.subplot(121), plt.imshow(img)\n",
    "plt.subplot(122), plt.imshow(balanced/255) #should i divide on 255?"
   ]
  },
  {
   "cell_type": "markdown",
   "metadata": {},
   "source": [
    "#Min-max scaling / min-max normalization\n",
    "Rescaling is the simplest method and consists in rescaling the range of features to scale the range in [0, 1] or [−1, 1]. Selecting the target range depends on the nature of the data. The general formula for a min-max of [0, 1]"
   ]
  },
  {
   "cell_type": "code",
   "execution_count": null,
   "metadata": {},
   "outputs": [],
   "source": [
    "# Load your image\n",
    "img = cv2.imread('../Homework_1/data/img1.jpg')\n",
    "img = cv2.cvtColor(img, cv2.COLOR_BGR2RGB)\n",
    "\n",
    "# Compute the maximum values for all three colour channels (red, green, blue)\n",
    "arr_max_coef = img.max(axis=tuple(range(img.ndim-1)))\n",
    "\n",
    "# Compute the minimum values for all three colour channels (red, green, blue)\n",
    "arr_min_coef = img.min(axis=tuple(range(img.ndim-1)))\n",
    "\n",
    "# Apply Min-max scaling balancing and generate the balanced image\n",
    "balanced = np.zeros_like(img, dtype=np.float32)\n",
    "\n",
    "for channel in range(3):\n",
    "    balanced[..., channel] = (img[..., channel] - arr_min_coef[channel]) / (arr_max_coef[channel] - arr_min_coef[channel])\n",
    "\n",
    "plt.subplot(121), plt.imshow(img)\n",
    "plt.subplot(122), plt.imshow(balanced)"
   ]
  },
  {
   "cell_type": "markdown",
   "metadata": {},
   "source": []
  }
 ],
 "metadata": {
  "kernelspec": {
   "display_name": "Python 3.8.13 ('hw1')",
   "language": "python",
   "name": "python3"
  },
  "language_info": {
   "codemirror_mode": {
    "name": "ipython",
    "version": 3
   },
   "file_extension": ".py",
   "mimetype": "text/x-python",
   "name": "python",
   "nbconvert_exporter": "python",
   "pygments_lexer": "ipython3",
   "version": "3.8.13"
  },
  "vscode": {
   "interpreter": {
    "hash": "6b16e44c7b1096d7ee3e8337b939fa91e7d28aacc7118f56a86a104bf04c788f"
   }
  }
 },
 "nbformat": 4,
 "nbformat_minor": 4
}
