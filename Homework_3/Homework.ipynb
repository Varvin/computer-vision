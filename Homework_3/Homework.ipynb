{
 "cells": [
  {
   "cell_type": "markdown",
   "metadata": {},
   "source": [
    "# HOMEWORK 3\n",
    "\n",
    "For this homework you are going to implement the **unsharp masking** filter (USM). It is a technique to improve the sharpness of an image by combining the image with its blurred (unsharp) version. See the Wikipedia [page](https://en.wikipedia.org/wiki/Unsharp_masking) for more details.\n",
    "\n",
    "### Unsharp Masking (USP)\n",
    "The USM technique consists of the following steps:\n",
    "* Load the image you will be working with.\n",
    "* Create a blurred (unsharp) version of the original image.\n",
    "* Add the unsharp image (with a certain **weight**) to the original.\n",
    "\n",
    "To sum it up, the USM performs the following operation:\n",
    "\n",
    "`sharpened = original + (original − unsharp) × amount`\n",
    "\n",
    "Even though we provide you an image to work with, you are welcome to use your own images :-)"
   ]
  },
  {
   "cell_type": "code",
   "execution_count": null,
   "metadata": {},
   "outputs": [],
   "source": [
    "import cv2\n",
    "import numpy as np\n",
    "from matplotlib import pyplot as plt\n",
    "plt.rcParams['figure.figsize'] = [15, 10]"
   ]
  },
  {
   "cell_type": "code",
   "execution_count": null,
   "metadata": {},
   "outputs": [],
   "source": [
    "img = cv2.imread('data/img1.jpg')\n",
    "img = cv2.cvtColor(img, cv2.COLOR_BGR2RGB)\n",
    "img = img/255\n",
    "plt.imshow(img)"
   ]
  },
  {
   "cell_type": "code",
   "execution_count": null,
   "metadata": {},
   "outputs": [],
   "source": [
    "# Create a blurred (unsharp) version of the original image (you can use Gaussian blurring)\n",
    "unsharp = cv2.GaussianBlur(img, ksize=(5,5), sigmaX=5)\n",
    "\n",
    "plt.subplot(121), plt.imshow(img)\n",
    "plt.subplot(122), plt.imshow(unsharp)"
   ]
  },
  {
   "cell_type": "code",
   "execution_count": null,
   "metadata": {},
   "outputs": [],
   "source": [
    "# Create the difference image (original − unsharp)\n",
    "# Note: Remember that you are working with uint8 data types. Any addition or substractions\n",
    "# might result in overflow or underflow, respectively. You can prevent this by casting the images to float.\n",
    "diff = img - unsharp\n",
    "\n",
    "plt.imshow(diff)"
   ]
  },
  {
   "cell_type": "code",
   "execution_count": null,
   "metadata": {},
   "outputs": [],
   "source": [
    "# Apply USM to get the resulting image using `sharpened = original + (original − unsharp) × amount`\n",
    "# Note: Again, take care of underflows/overflows if necessary.\n",
    "sharpened = img + diff * 1.5\n",
    "\n",
    "sharpened[sharpened < 0] = 0\n",
    "sharpened[sharpened > 1] = 1\n",
    "\n",
    "plt.subplot(121), plt.imshow(img[150:250,600:800,:])\n",
    "plt.subplot(122), plt.imshow(sharpened[150:250,600:800,:])\n",
    "\n",
    "# plt.subplot(121), plt.imshow(img)\n",
    "# plt.subplot(122), plt.imshow(sharpened)"
   ]
  },
  {
   "cell_type": "markdown",
   "metadata": {},
   "source": [
    "### Questions\n",
    "* What is a good (reasonable) value for the `amount` parameter?\n",
    "\n",
    "    Rcomended `amount` value in range from 0.5 to 1.5\n",
    "\n",
    " * What happens if it is too small?\n",
    "\n",
    "    The closer the `amount` value is to 0, the less noticeable the difference.\n",
    "    If the value is below 0 (example -1) you get a blur effect\n",
    "\n",
    " * What happens if it is too large?\n",
    " \n",
    "    The higher the value from the recommended one, the more noise and artifacts the image will have. (example 9)\n",
    "\n",
    "Image examples in Homework_3/README.md"
   ]
  }
 ],
 "metadata": {
  "kernelspec": {
   "display_name": "Python 3.8.13 ('hw1')",
   "language": "python",
   "name": "python3"
  },
  "language_info": {
   "codemirror_mode": {
    "name": "ipython",
    "version": 3
   },
   "file_extension": ".py",
   "mimetype": "text/x-python",
   "name": "python",
   "nbconvert_exporter": "python",
   "pygments_lexer": "ipython3",
   "version": "3.8.13"
  },
  "vscode": {
   "interpreter": {
    "hash": "6b16e44c7b1096d7ee3e8337b939fa91e7d28aacc7118f56a86a104bf04c788f"
   }
  }
 },
 "nbformat": 4,
 "nbformat_minor": 4
}
