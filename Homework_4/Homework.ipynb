{
 "cells": [
  {
   "cell_type": "markdown",
   "metadata": {},
   "source": [
    "# HOMEWORK 4\n",
    "\n",
    "For this homework you are going to implement a lane line detector. Lane line detection is crucial for ADAS (Advanced Driver Assistance Systems) systems and, in particular, for LKA (Lane Keep Assist). You will use a [picture](https://en.wikipedia.org/wiki/Lane_departure_warning_system) from a front facing camera (mounted on the car) and will implement the following steps:\n",
    "* Convert image to gray scale\n",
    "* Compute edge map\n",
    "* Apply Hough transform to obtain line parametrizations"
   ]
  },
  {
   "cell_type": "code",
   "execution_count": null,
   "metadata": {
    "scrolled": false
   },
   "outputs": [],
   "source": [
    "import cv2\n",
    "import math\n",
    "import numpy as np\n",
    "from matplotlib import pyplot as plt\n",
    "from showlist import show_image_list\n",
    "from drow import draw_lines\n",
    "plt.rcParams['figure.figsize'] = [15, 10]"
   ]
  },
  {
   "cell_type": "markdown",
   "metadata": {},
   "source": [
    "Let's load and show the camera frame."
   ]
  },
  {
   "cell_type": "code",
   "execution_count": null,
   "metadata": {},
   "outputs": [],
   "source": [
    "img = cv2.imread('data/dashcam.jpg')\n",
    "img = cv2.cvtColor(img, cv2.COLOR_BGR2RGB)\n",
    "img = cv2.resize(img, None, fx=0.5, fy=0.5)\n",
    "plt.imshow(img)"
   ]
  },
  {
   "cell_type": "code",
   "execution_count": null,
   "metadata": {
    "scrolled": true
   },
   "outputs": [],
   "source": [
    "# Convert image to gray scale\n",
    "gray = cv2.cvtColor(img, cv2.COLOR_RGB2GRAY)"
   ]
  },
  {
   "cell_type": "code",
   "execution_count": null,
   "metadata": {},
   "outputs": [],
   "source": [
    "# Obtain edge map\n",
    "# Hint: you can use Canny edge detector with th_low = 100, th_high = 150\n",
    "edges = cv2.Canny(gray, threshold1 = 100, threshold2 = 150)\n",
    "\n",
    "edges2 = cv2.Canny(gray, threshold1 = 100, threshold2 = 200)\n",
    "# We are only interseted in the road so we will remove everything above the horizon\n",
    "edges[0:330] = 0\n",
    "edges2[0:330] = 0"
   ]
  },
  {
   "cell_type": "code",
   "execution_count": null,
   "metadata": {},
   "outputs": [],
   "source": [
    "# Let's plot the images\n",
    "images = [img, gray, edges, edges2]\n",
    "lables = ['Original', 'Gray', 'Edge map 100-150', 'Edge map 100-200']\n",
    "\n",
    "show_image_list(images, lables, grid=False)"
   ]
  },
  {
   "cell_type": "code",
   "execution_count": null,
   "metadata": {
    "scrolled": false
   },
   "outputs": [],
   "source": [
    "# Apply Hough transform to parametrize the lines\n",
    "# Hint 1: Offset resolution of 2 pixels and slope resolution of 2 degrees work well in this case\n",
    "# Hint 2: A suitable value for the accumulator threshold is 190\n",
    "lines = cv2.HoughLines(edges, rho=2, theta=np.deg2rad(2), threshold=200)\n",
    "# Let's get rid of the unnecessary dimension\n",
    "lines = lines[:, 0, :]\n",
    "\n",
    "result_all_lines = np.copy(img)\n",
    "\n",
    "draw_lines(result_all_lines, lines)\n",
    "\n",
    "show_image_list([edges,result_all_lines],['Edge map','Hough lines'],grid=False)"
   ]
  },
  {
   "cell_type": "code",
   "execution_count": null,
   "metadata": {},
   "outputs": [],
   "source": [
    "# Plot the resulting Hough lines\n",
    "result_all_lines = np.copy(img)\n",
    "\n",
    "draw_lines(result_all_lines, lines)\n",
    "\n",
    "show_image_list([edges,result_all_lines],['Edge map','Hough lines'],grid=False)"
   ]
  },
  {
   "cell_type": "markdown",
   "metadata": {},
   "source": [
    "The edge map looks good but the Hough lines are too noisy. Let's clean the Hough lines first by removing all lines that we know cannot represent a lane line. In other words, all lines that are approximately horizontal shall be removed. Remember that horizontal lines correspond to theta = 90 degrees."
   ]
  },
  {
   "cell_type": "code",
   "execution_count": null,
   "metadata": {},
   "outputs": [],
   "source": [
    "# Filter out all lines that are approximately horizontal (+/- 20 degrees). \n",
    "from_theta = np.deg2rad(90 - 20)\n",
    "to_theta = np.deg2rad(90 + 20)\n",
    "\n",
    "filtered_lines = []\n",
    "for line in lines:\n",
    "    # Extract theta for current line (remember Hough works with radians)\n",
    "    theta = line[1]\n",
    "    # Keep line if theta is not horizontal\n",
    "    if theta < from_theta or theta > to_theta :\n",
    "        filtered_lines.append(line)"
   ]
  },
  {
   "cell_type": "code",
   "execution_count": null,
   "metadata": {},
   "outputs": [],
   "source": [
    "# Let's plot the resulting filtered lines\n",
    "result_filtered_lines = np.copy(img)\n",
    " \n",
    "draw_lines(result_filtered_lines, filtered_lines)\n",
    "\n",
    "show_image_list([result_all_lines, result_filtered_lines], ['Hough lines all', 'Hough lines filtered'], grid=False)"
   ]
  },
  {
   "cell_type": "markdown",
   "metadata": {},
   "source": [
    "The result is now much better, but still we see some very similar lines. How can we get rid of them?\n",
    "* Let's apply k-means clustering. It will find the clusters of the 6 we see in the picture lines and use the averages."
   ]
  },
  {
   "cell_type": "code",
   "execution_count": null,
   "metadata": {
    "scrolled": true
   },
   "outputs": [],
   "source": [
    "# We will apply k-means clustering to refine the detected lines.\n",
    "# Don't worry, we will learn about the clustering later in the course :-)\n",
    "from sklearn.cluster import KMeans\n",
    "kmeans = KMeans(n_clusters=6).fit(filtered_lines)\n",
    "kmeans.cluster_centers_"
   ]
  },
  {
   "cell_type": "code",
   "execution_count": null,
   "metadata": {
    "scrolled": true
   },
   "outputs": [],
   "source": [
    "# Again, let's plot the resulting filtered lines\n",
    "result_k_means = np.copy(img)\n",
    "\n",
    "draw_lines(result_k_means, kmeans.cluster_centers_)\n",
    "\n",
    "show_image_list([result_filtered_lines, result_k_means], ['Hough lines filtered by degrees', 'Hough lines filtered by k-means clustering'], grid=False)"
   ]
  },
  {
   "cell_type": "markdown",
   "metadata": {},
   "source": [
    "### Questions\n",
    "* Do you see anything strange in the final result?\n",
    "\n",
    "    In the processed area, the lines coincide with the road markings quite accurately. K-means clustering significantly improved the result. The resulting lines go through the entire image.\n",
    "\n",
    "* Do you think the Hough transform resolution is important for obtaining a good result? Why?\n",
    "\n",
    "    Yes. Choosing the values of resolution parameters for Hough transform, we can get more lines in general and lines close to each other, which will require additional fitting of the results or not enough lines for further correct processing of the result.\n",
    "\n",
    "* Do you think the Hough transform accumulator threshold is important for obtaining a good result? Why?\n",
    "\n",
    "    Yes. Accumulator threshold allows you to filter out lines that do not cross the required number of pixels, which can significantly reduce the number of lines in the output and provide a more suitable set of lines for further processing"
   ]
  }
 ],
 "metadata": {
  "kernelspec": {
   "display_name": "Python 3.8.13 ('hw4')",
   "language": "python",
   "name": "python3"
  },
  "language_info": {
   "codemirror_mode": {
    "name": "ipython",
    "version": 3
   },
   "file_extension": ".py",
   "mimetype": "text/x-python",
   "name": "python",
   "nbconvert_exporter": "python",
   "pygments_lexer": "ipython3",
   "version": "3.8.13"
  },
  "vscode": {
   "interpreter": {
    "hash": "3342132b8aa46483c107ea6e46b3799fe8e5161f8b4b9b5459ca3d28e4574eb5"
   }
  }
 },
 "nbformat": 4,
 "nbformat_minor": 4
}
