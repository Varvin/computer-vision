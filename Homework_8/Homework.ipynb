{
 "cells": [
  {
   "cell_type": "markdown",
   "metadata": {},
   "source": [
    "# HOMEWORK 8\n",
    "\n",
    "In this homework you are going to implement your first machine learning algorithm to automatically binarize document images. The goal of document binarization is to seprate the characters (letters) from everything else. This is the crucial part for automatic document understanding and information extraction from the . In order to do so, you will use the Otsu thresholding algorithm.\n",
    "\n",
    "At the end of this notebook, there are a couple of questions for you to answer."
   ]
  },
  {
   "cell_type": "code",
   "execution_count": null,
   "metadata": {},
   "outputs": [],
   "source": [
    "import cv2\n",
    "import math\n",
    "import numpy as np\n",
    "from matplotlib import pyplot as plt\n",
    "plt.rcParams['figure.figsize'] = [15, 10]"
   ]
  },
  {
   "cell_type": "markdown",
   "metadata": {},
   "source": [
    "Let's load the document image we will be working on in this homework."
   ]
  },
  {
   "cell_type": "code",
   "execution_count": null,
   "metadata": {},
   "outputs": [],
   "source": [
    "img = cv2.imread('data/document.jpg')\n",
    "img = cv2.cvtColor(img, cv2.COLOR_BGR2GRAY)\n",
    "plt.imshow(img, cmap='gray')"
   ]
  },
  {
   "cell_type": "markdown",
   "metadata": {},
   "source": [
    "First, let's have a look at the histogram."
   ]
  },
  {
   "cell_type": "code",
   "execution_count": null,
   "metadata": {
    "scrolled": true
   },
   "outputs": [],
   "source": [
    "h = np.histogram(img, 256)\n",
    "plt.bar(h[1][0:-1], h[0])\n",
    "plt.xlabel('Colour'), plt.ylabel('Count')\n",
    "plt.grid(True)"
   ]
  },
  {
   "cell_type": "markdown",
   "metadata": {},
   "source": [
    "### Otsu Thresholding\n",
    "\n",
    "Let's now implement the Otsu thresholding algorithm. Remember that the algorithm consists of an optimization process that finds the thresholds that minimizes the intra-class variance or, equivalently, maximizes the inter-class variance.\n",
    "\n",
    "In this homework, you are going to demonstrate the working principle of the Otsu algorithm. Therefore, you won't have to worry about an efficient implementation, we are going to use the brute force approach here."
   ]
  },
  {
   "cell_type": "code",
   "execution_count": null,
   "metadata": {
    "scrolled": true
   },
   "outputs": [],
   "source": [
    "# Get image dimensions\n",
    "rows, cols = img.shape\n",
    "\n",
    "# Compute the total amount of image pixels\n",
    "num_pixels = rows * cols\n",
    "\n",
    "# Initializations\n",
    "best_wcv = 1e6  # Best within-class variance (wcv)\n",
    "opt_th = None   # Threshold corresponding to the best wcv\n",
    "\n",
    "all_colors = img.flatten()\n",
    "\n",
    "# Brute force search using all possible thresholds (levels of gray)\n",
    "for th in range(0, 256):\n",
    "    # Extract the image pixels corresponding to the background\n",
    "    foreground = all_colors[all_colors >= th]\n",
    "    # Extract the image pixels corresponding to the background\n",
    "    background = all_colors[all_colors < th]\n",
    "    \n",
    "    # If foreground or background are empty, continue\n",
    "    if len(foreground) == 0 or len(background) == 0:\n",
    "        continue\n",
    "    \n",
    "    # Compute class-weights (omega parameters) for foreground and background\n",
    "    omega_f = len(foreground) / num_pixels\n",
    "    omega_b = len(background) / num_pixels\n",
    "\n",
    "    # Compute pixel variance for foreground and background\n",
    "    # Hint: Check out the var function from numpy ;-)\n",
    "    # https://numpy.org/doc/stable/reference/generated/numpy.var.html\n",
    "    sigma_f = np.var(foreground)\n",
    "    sigma_b = np.var(background)\n",
    "\n",
    "    # Compute the within-class variance\n",
    "    wcv = omega_f * sigma_f + omega_b * sigma_b\n",
    "    \n",
    "    # Perform the optimization\n",
    "    if wcv < best_wcv:\n",
    "        best_wcv = wcv\n",
    "        opt_th = th\n",
    "        \n",
    "# Print out the optimal threshold found by Otsu algorithm\n",
    "print('Optimal threshold', opt_th)\n"
   ]
  },
  {
   "cell_type": "markdown",
   "metadata": {},
   "source": [
    "Finally, let's compare the original image and its thresholded representation."
   ]
  },
  {
   "cell_type": "code",
   "execution_count": null,
   "metadata": {
    "scrolled": true
   },
   "outputs": [],
   "source": [
    "plt.subplot(121), plt.imshow(img, cmap='gray')\n",
    "plt.subplot(122), plt.imshow(img > opt_th, cmap='gray')"
   ]
  },
  {
   "cell_type": "markdown",
   "metadata": {},
   "source": [
    "### Questions\n",
    "\n",
    "* Looking at the computed histogram, could it be considered bimodal?\n",
    "\n",
    "    A bimodal histogram has two peaks, or the two highest principal points. On this histogram, we can highlight the 2 highest points (in the range of 190-210 and 240-250), but looking at the results, we see that the optimal threshold is at around 160, so I understand that because of this, the separation occurs between the peaks of 130-140 and 190-210.\n",
    "\n",
    "* Looking at the computed histogram, what binarization threshold would you chose? Why?\n",
    "\n",
    "    I would choose a value somewhere in the middle between the two peaks on the histogram. This will filter out the background while retaining some of the details of the image.\n",
    "\n",
    "* Looking at the resulting (thresholded) image, is the text binarization (detection) good?\n",
    "\n",
    "    Black text on a white background has become more contrasting and easier to detect, while light text on a dark background has become more legible."
   ]
  }
 ],
 "metadata": {
  "kernelspec": {
   "display_name": "Python 3.8.13 ('hw4')",
   "language": "python",
   "name": "python3"
  },
  "language_info": {
   "codemirror_mode": {
    "name": "ipython",
    "version": 3
   },
   "file_extension": ".py",
   "mimetype": "text/x-python",
   "name": "python",
   "nbconvert_exporter": "python",
   "pygments_lexer": "ipython3",
   "version": "3.8.13"
  },
  "vscode": {
   "interpreter": {
    "hash": "3342132b8aa46483c107ea6e46b3799fe8e5161f8b4b9b5459ca3d28e4574eb5"
   }
  }
 },
 "nbformat": 4,
 "nbformat_minor": 4
}
