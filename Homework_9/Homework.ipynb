{
 "cells": [
  {
   "cell_type": "markdown",
   "metadata": {},
   "source": [
    "# HOMEWORK 9\n",
    "\n",
    "In this homework, you are going to use the dlib face detector and apply it to an image of your liking. You can follow the procedure shown in lesson 9. Please always comment your code so I can see what you're doing :-)\n",
    "\n",
    "For this homework we are not going to provide you with any code, you'll have to build the face detector on your own."
   ]
  },
  {
   "cell_type": "markdown",
   "metadata": {},
   "source": [
    "### Step 0\n",
    "\n",
    "Run the necessary imports."
   ]
  },
  {
   "cell_type": "code",
   "execution_count": null,
   "metadata": {},
   "outputs": [],
   "source": [
    "import cv2\n",
    "import numpy as np\n",
    "import dlib\n",
    "import glob\n",
    "from matplotlib import pyplot as plt\n",
    "from showlist import show_image_list"
   ]
  },
  {
   "cell_type": "markdown",
   "metadata": {},
   "source": [
    "### Step 1\n",
    "\n",
    "Load an image (any image that contains faces)."
   ]
  },
  {
   "cell_type": "code",
   "execution_count": null,
   "metadata": {},
   "outputs": [],
   "source": [
    "def load_images():\n",
    "    filenames = glob.glob(\"data/*\")\n",
    "    filenames.sort()\n",
    "    images = [cv2.cvtColor(cv2.imread(img_path), cv2.COLOR_BGR2RGB) for img_path in filenames]\n",
    "    return images"
   ]
  },
  {
   "cell_type": "code",
   "execution_count": null,
   "metadata": {},
   "outputs": [],
   "source": [
    "images = load_images()"
   ]
  },
  {
   "cell_type": "markdown",
   "metadata": {},
   "source": [
    "### Step 2\n",
    "\n",
    "Load the dlib face predictor."
   ]
  },
  {
   "cell_type": "code",
   "execution_count": null,
   "metadata": {},
   "outputs": [],
   "source": [
    "def get_random_color():\n",
    "    return list(np.random.random(size=3) * 256)\n",
    "    \n",
    "face_cascade = cv2.CascadeClassifier('haarcascade_frontalface_default.xml')\n",
    "\n",
    "def cascade_detector_func(image, scaleFactor=1.1, minNeighbors=5):\n",
    "    gray = cv2.cvtColor(image, cv2.COLOR_RGB2GRAY)\n",
    "    faces = face_cascade.detectMultiScale(gray, scaleFactor=scaleFactor, minNeighbors=minNeighbors, flags=cv2.CASCADE_SCALE_IMAGE)\n",
    "\n",
    "    # Draw rectangle around each face\n",
    "    result = np.copy(image)\n",
    "    for (x, y, w, h) in faces: \n",
    "        # Draw rectangle around the face\n",
    "        cv2.rectangle(result, (x, y), (x+w, y+h), get_random_color(), 3)\n",
    "        \n",
    "    return result\n",
    "\n",
    "dlib_detector = dlib.get_frontal_face_detector()\n",
    "\n",
    "def dlib_detector_func(image, scaleFactor = 1):\n",
    "    gray = cv2.cvtColor(image, cv2.COLOR_RGB2GRAY)\n",
    "    rects = dlib_detector(gray, 1)\n",
    "\n",
    "    def rect_to_bb(rect):\n",
    "        # Dlib rect --> OpenCV rect\n",
    "        x = rect.left()\n",
    "        y = rect.top()\n",
    "        w = rect.right() - x\n",
    "        h = rect.bottom() - y\n",
    "\n",
    "        return (x, y, w, h)\n",
    "\n",
    "    # Draw rectangle around each face\n",
    "    result_dlib = np.copy(image)\n",
    "    for rect in rects:    \n",
    "        # Draw rectangle around the face\n",
    "        x, y, w, h = rect_to_bb(rect)\n",
    "        cv2.rectangle(result_dlib, (x, y), (x+w, y+h), get_random_color(), 3)\n",
    "    \n",
    "    return result_dlib"
   ]
  },
  {
   "cell_type": "markdown",
   "metadata": {},
   "source": [
    "### Step 3\n",
    "\n",
    "Run the predictor on your image."
   ]
  },
  {
   "cell_type": "code",
   "execution_count": null,
   "metadata": {},
   "outputs": [],
   "source": [
    "cascade_detection_results = []\n",
    "dlib_detection_resutls = []\n",
    "\n",
    "for img in images:\n",
    "    cascade_detection_result = cascade_detector_func(img, 1.1, 10)\n",
    "    cascade_detection_results.append(cascade_detection_result)\n",
    "\n",
    "    dlib_detection_resutl = dlib_detector_func(img, 1)\n",
    "    dlib_detection_resutls.append(dlib_detection_resutl)\n",
    "    "
   ]
  },
  {
   "cell_type": "markdown",
   "metadata": {},
   "source": [
    "### Step 4\n",
    "\n",
    "Draw bounding boxes around the detected faces and plot the image. Use different colour for each face."
   ]
  },
  {
   "cell_type": "code",
   "execution_count": null,
   "metadata": {},
   "outputs": [],
   "source": [
    "image_count = len(images)\n",
    "arr = ['Original'] * image_count\n",
    "vj_title = ['Viola-Jones'] * image_count\n",
    "dlib_title = ['dlib'] * image_count\n",
    "\n",
    "titles = [None] * (image_count * 2)\n",
    "# titles[::3] = arr\n",
    "# titles[1::3] = vj_title\n",
    "# titles[2::3] = dlib_title\n",
    "titles[::2] = vj_title\n",
    "titles[1::2] = dlib_title"
   ]
  },
  {
   "cell_type": "code",
   "execution_count": null,
   "metadata": {},
   "outputs": [],
   "source": [
    "detection_resutls = [None] * (image_count * 2)\n",
    "# detection_resutls[::3] = images\n",
    "# detection_resutls[1::3] = cascade_detection_results\n",
    "# detection_resutls[2::3] = dlib_detection_resutls\n",
    "detection_resutls[::2] = cascade_detection_results\n",
    "detection_resutls[1::2] = dlib_detection_resutls\n",
    "\n",
    "show_image_list(detection_resutls, titles, grid=False, num_cols=2, figsize=(20,150), title_fontsize=20)"
   ]
  },
  {
   "cell_type": "markdown",
   "metadata": {},
   "source": [
    "### Step 5 (optional)\n",
    "\n",
    "Repeat the process with a different and more challenging image (more faces, smaller faces, people with glasses, hats, helmets, etc.). How does the detector perform? Is it robust?\n",
    "\n",
    "In more cases, the dlib detector finds more faces, the haar detector. Haar has more false positives, and on my set of images, as the scale factor increased, the number of detected faces decreased."
   ]
  }
 ],
 "metadata": {
  "kernelspec": {
   "display_name": "Python 3.8.13 ('hw9')",
   "language": "python",
   "name": "python3"
  },
  "language_info": {
   "codemirror_mode": {
    "name": "ipython",
    "version": 3
   },
   "file_extension": ".py",
   "mimetype": "text/x-python",
   "name": "python",
   "nbconvert_exporter": "python",
   "pygments_lexer": "ipython3",
   "version": "3.8.13"
  },
  "vscode": {
   "interpreter": {
    "hash": "6690fc0e09d1f7214b219862f0935098a9ef1cfa9b340b4619e17c3af807a970"
   }
  }
 },
 "nbformat": 4,
 "nbformat_minor": 4
}
